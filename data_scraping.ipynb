{
 "cells": [
  {
   "cell_type": "markdown",
   "id": "c04e8142-4709-4e44-8aae-7c6c8c467a6d",
   "metadata": {
    "tags": []
   },
   "source": [
    "# Scraping NFL Play-by-Play Data from ESPN"
   ]
  },
  {
   "cell_type": "markdown",
   "id": "be1257b6-77f0-4d3a-a24b-2e54d3e829fd",
   "metadata": {},
   "source": [
    "This notebook scrapes every play from every NFL game played since 2003 and packages them in CSV files by season\n",
    "\n",
    "Written by Connor Cozad</br>\n",
    "March 6, 2022"
   ]
  },
  {
   "cell_type": "markdown",
   "id": "1ad4a1c7-3da4-4caf-ab69-33690e35db76",
   "metadata": {},
   "source": [
    "### Imports"
   ]
  },
  {
   "cell_type": "code",
   "execution_count": 19,
   "id": "904dbd75-032e-48fa-8005-3d2149743ef6",
   "metadata": {},
   "outputs": [],
   "source": [
    "from bs4 import BeautifulSoup\n",
    "import requests\n",
    "import pandas as pd\n",
    "import numpy as np\n",
    "import time\n",
    "import datetime\n",
    "import random\n",
    "pd.set_option('display.max_rows', None)"
   ]
  },
  {
   "cell_type": "markdown",
   "id": "6a4ecdbe-1838-4d3f-bedb-c9fe41209802",
   "metadata": {
    "tags": []
   },
   "source": [
    "### Get List of All Teams"
   ]
  },
  {
   "cell_type": "markdown",
   "id": "f8cabc6a-586b-4c22-a323-d638b53cdb0f",
   "metadata": {},
   "source": [
    "We need a list of all teams so that we can find their schedules from each season. We scrape can scrape all of the Game IDs from every team's schedule from every season. The Game IDs will then be used to access the webpages with the play-by-play from those games."
   ]
  },
  {
   "cell_type": "code",
   "execution_count": 2,
   "id": "d95e6b00-217d-4f92-a42b-b79a8d518808",
   "metadata": {},
   "outputs": [],
   "source": [
    "url = 'https://www.espn.com/nfl/team/schedule/_/name/wsh/season/2021'\n",
    "req = requests.get(url)\n",
    "soup = BeautifulSoup(req.text, \"html.parser\")"
   ]
  },
  {
   "cell_type": "code",
   "execution_count": 3,
   "id": "b6d04296-0cb0-4e78-8297-8a4505193fd1",
   "metadata": {},
   "outputs": [
    {
     "name": "stdout",
     "output_type": "stream",
     "text": [
      "['ari', 'atl', 'bal', 'buf', 'car', 'chi', 'cin', 'cle', 'dal', 'den', 'det', 'gb', 'hou', 'ind', 'jax', 'kc', 'lv', 'lac', 'lar', 'mia', 'min', 'ne', 'no', 'nyg', 'nyj', 'phi', 'pit', 'sf', 'sea', 'tb', 'ten']\n"
     ]
    }
   ],
   "source": [
    "teams = soup.find('select').find_all('option')[1:]\n",
    "teams = [x['data-param-value'] for x in teams]\n",
    "print(teams)"
   ]
  },
  {
   "cell_type": "markdown",
   "id": "50cdde95-acf7-48ae-9934-05e3bd9f25e8",
   "metadata": {},
   "source": [
    "### Get List of All Game IDs"
   ]
  },
  {
   "cell_type": "markdown",
   "id": "acdbb30a-e690-45a7-aa8f-5ade8d1831a7",
   "metadata": {},
   "source": [
    "We use the list of all of the game IDs to access the webpages containing the play-by-play data from those games."
   ]
  },
  {
   "cell_type": "code",
   "execution_count": 4,
   "id": "4b241557-8a4c-4c53-a1e4-f53697b32db7",
   "metadata": {},
   "outputs": [],
   "source": [
    "def get_game_ids(year):\n",
    "    game_ids = []\n",
    "    for team in teams:\n",
    "        url = f'https://www.espn.com/nfl/team/schedule/_/name/{team}/season/{year}'\n",
    "        req = requests.get(url)\n",
    "        soup = BeautifulSoup(req.text, \"html.parser\")\n",
    "\n",
    "        games = soup.find_all('span', class_='ml4')\n",
    "        game_ids.extend([game.find('a')['href'].split('/')[-1] for game in games])\n",
    "    \n",
    "    return list(set(game_ids))"
   ]
  },
  {
   "cell_type": "markdown",
   "id": "6330dc74-6a26-4a30-b42b-079462f423cc",
   "metadata": {},
   "source": [
    "### Get the Play-by-Play Data"
   ]
  },
  {
   "cell_type": "markdown",
   "id": "75d819ff-7b48-4b62-bc1c-de5b18baecde",
   "metadata": {},
   "source": [
    "We get the play-by-play data from every game in a particular season and export it as a CSV file."
   ]
  },
  {
   "cell_type": "code",
   "execution_count": 5,
   "id": "521333f9-3189-46ad-89f5-398748bd5b0e",
   "metadata": {},
   "outputs": [],
   "source": [
    "def append_play(dictionary, game_id=np.nan, is_postseason=np.nan, home_team=np.nan, home_team_score=np.nan,\n",
    "                away_team=np.nan, away_team_score=np.nan, quarter=np.nan, game_clock=np.nan, possession=np.nan,\n",
    "                down=np.nan, ball_placement=np.nan, play_description=np.nan):\n",
    "    \n",
    "    dictionary['Game ID'].append(game_id)\n",
    "    dictionary['Postseason'].append(is_postseason)\n",
    "    dictionary['Home Team'].append(home_team)\n",
    "    dictionary['Home Team Score'].append(home_team_score)\n",
    "    dictionary['Away Team'].append(away_team)\n",
    "    dictionary['Away Team Score'].append(away_team_score)\n",
    "    dictionary['Quarter'].append(quarter)\n",
    "    dictionary['Clock'].append(game_clock)\n",
    "    dictionary['Possession'].append(possession)\n",
    "    dictionary['Down'].append(down)\n",
    "    dictionary['Ball Placement'].append(ball_placement)\n",
    "    dictionary['Description'].append(play_description)\n",
    "    \n",
    "    return dictionary"
   ]
  },
  {
   "cell_type": "code",
   "execution_count": 6,
   "id": "cd87b2e5-b5dc-410c-ad3a-a26f6161d4d8",
   "metadata": {},
   "outputs": [],
   "source": [
    "def scrape_game(game_id):    \n",
    "    url = f\"https://www.espn.com/nfl/playbyplay/_/gameId/{game_id}\"\n",
    "    req = requests.get(url)\n",
    "    soup = BeautifulSoup(req.text, \"html.parser\")\n",
    "\n",
    "    home_team = soup.find('div', class_='team home').find('span', class_='abbrev').text\n",
    "    home_final_score = soup.find('div', class_='team home').find('div', class_='score').text\n",
    "    away_team = soup.find('div', class_='team away').find('span', class_='abbrev').text\n",
    "    away_final_score = soup.find('div', class_='team away').find('div', class_='score').text\n",
    "    is_postseason = bool(soup.find('div', class_='game-details header'))\n",
    "\n",
    "    parsed_plays = {\n",
    "        'Game ID':[], 'Postseason':[], 'Home Team':[], 'Home Team Score':[], 'Away Team':[], 'Away Team Score':[],\n",
    "        'Quarter':[], 'Clock':[], 'Possession':[], 'Down':[], 'Ball Placement':[], 'Description':[]\n",
    "    }\n",
    "\n",
    "    prev_drive_home_score = 0\n",
    "    prev_drive_away_score = 0\n",
    "\n",
    "    drives = soup.find_all('li', class_='accordion-item')\n",
    "\n",
    "    for drive in drives:\n",
    "        if 'half-time' in drive['class']:\n",
    "            continue\n",
    "\n",
    "        try:\n",
    "            possession = drive.find('img', class_='team-logo')['src'].split('/')[-1].split('.')[0].upper()\n",
    "        except:\n",
    "            continue\n",
    "\n",
    "        for play in drive.find_all('li'):\n",
    "            if 'end-quarter' in play['class'] or 'half-time' in play['class']:\n",
    "                continue\n",
    "\n",
    "            try:\n",
    "                down_and_yrds_to_go, ball_placement = play.find('h3').text.split(' at ')\n",
    "            except ValueError:\n",
    "                down_and_yrds_to_go, ball_placement = np.nan, np.nan\n",
    "\n",
    "            try:\n",
    "                time, *play_description = play.find('span').text.strip().split(') ')\n",
    "                play_description = ') '.join(play_description).strip()\n",
    "            except ValueError:\n",
    "                continue\n",
    "\n",
    "            game_clock, quarter = time.split(' - ')\n",
    "            game_clock = game_clock[1:]\n",
    "            quarter = quarter[0]\n",
    "\n",
    "            parsed_plays = append_play(parsed_plays, game_id, is_postseason, home_team, prev_drive_home_score, \n",
    "                                       away_team, prev_drive_away_score, quarter, game_clock, possession, \n",
    "                                       down_and_yrds_to_go, ball_placement, play_description)\n",
    "\n",
    "        prev_drive_home_score = drive.find('span', class_='away').find('span', class_='team-score').text\n",
    "        prev_drive_away_score = drive.find('span', class_='home').find('span', class_='team-score').text\n",
    "\n",
    "    parsed_plays = append_play(parsed_plays, game_id, is_postseason, home_team, home_final_score, away_team,\n",
    "                               away_final_score, quarter='4', game_clock='0:00', play_description='Final')\n",
    "    \n",
    "    return pd.DataFrame(parsed_plays)"
   ]
  },
  {
   "cell_type": "code",
   "execution_count": 7,
   "id": "b5a39775-c01b-4434-a5a1-ab7d920b32c7",
   "metadata": {
    "tags": []
   },
   "outputs": [
    {
     "data": {
      "text/html": [
       "<div>\n",
       "<style scoped>\n",
       "    .dataframe tbody tr th:only-of-type {\n",
       "        vertical-align: middle;\n",
       "    }\n",
       "\n",
       "    .dataframe tbody tr th {\n",
       "        vertical-align: top;\n",
       "    }\n",
       "\n",
       "    .dataframe thead th {\n",
       "        text-align: right;\n",
       "    }\n",
       "</style>\n",
       "<table border=\"1\" class=\"dataframe\">\n",
       "  <thead>\n",
       "    <tr style=\"text-align: right;\">\n",
       "      <th></th>\n",
       "      <th>Game ID</th>\n",
       "      <th>Postseason</th>\n",
       "      <th>Home Team</th>\n",
       "      <th>Home Team Score</th>\n",
       "      <th>Away Team</th>\n",
       "      <th>Away Team Score</th>\n",
       "      <th>Quarter</th>\n",
       "      <th>Clock</th>\n",
       "      <th>Possession</th>\n",
       "      <th>Down</th>\n",
       "      <th>Ball Placement</th>\n",
       "      <th>Description</th>\n",
       "    </tr>\n",
       "  </thead>\n",
       "  <tbody>\n",
       "    <tr>\n",
       "      <th>179</th>\n",
       "      <td>401326634</td>\n",
       "      <td>True</td>\n",
       "      <td>TB</td>\n",
       "      <td>27</td>\n",
       "      <td>LAR</td>\n",
       "      <td>27</td>\n",
       "      <td>4</td>\n",
       "      <td>0:35</td>\n",
       "      <td>LAR</td>\n",
       "      <td>2nd &amp; 11</td>\n",
       "      <td>LAR 24</td>\n",
       "      <td>(Shotgun) M.Stafford pass deep left to C.Kupp ...</td>\n",
       "    </tr>\n",
       "    <tr>\n",
       "      <th>180</th>\n",
       "      <td>401326634</td>\n",
       "      <td>True</td>\n",
       "      <td>TB</td>\n",
       "      <td>27</td>\n",
       "      <td>LAR</td>\n",
       "      <td>27</td>\n",
       "      <td>4</td>\n",
       "      <td>0:27</td>\n",
       "      <td>LAR</td>\n",
       "      <td>1st &amp; 10</td>\n",
       "      <td>LAR 44</td>\n",
       "      <td>(Shotgun) M.Stafford pass deep middle to C.Kup...</td>\n",
       "    </tr>\n",
       "    <tr>\n",
       "      <th>181</th>\n",
       "      <td>401326634</td>\n",
       "      <td>True</td>\n",
       "      <td>TB</td>\n",
       "      <td>27</td>\n",
       "      <td>LAR</td>\n",
       "      <td>27</td>\n",
       "      <td>4</td>\n",
       "      <td>0:06</td>\n",
       "      <td>LAR</td>\n",
       "      <td>1st &amp; 10</td>\n",
       "      <td>TB 12</td>\n",
       "      <td>(No Huddle) M.Stafford spiked the ball to stop...</td>\n",
       "    </tr>\n",
       "    <tr>\n",
       "      <th>182</th>\n",
       "      <td>401326634</td>\n",
       "      <td>True</td>\n",
       "      <td>TB</td>\n",
       "      <td>27</td>\n",
       "      <td>LAR</td>\n",
       "      <td>27</td>\n",
       "      <td>4</td>\n",
       "      <td>0:00</td>\n",
       "      <td>LAR</td>\n",
       "      <td>2nd &amp; 10</td>\n",
       "      <td>TB 12</td>\n",
       "      <td>Matt Gay 30 Yd Field Goal</td>\n",
       "    </tr>\n",
       "    <tr>\n",
       "      <th>183</th>\n",
       "      <td>401326634</td>\n",
       "      <td>True</td>\n",
       "      <td>TB</td>\n",
       "      <td>27</td>\n",
       "      <td>LAR</td>\n",
       "      <td>30</td>\n",
       "      <td>4</td>\n",
       "      <td>0:00</td>\n",
       "      <td>NaN</td>\n",
       "      <td>NaN</td>\n",
       "      <td>NaN</td>\n",
       "      <td>Final</td>\n",
       "    </tr>\n",
       "  </tbody>\n",
       "</table>\n",
       "</div>"
      ],
      "text/plain": [
       "       Game ID  Postseason Home Team Home Team Score Away Team  \\\n",
       "179  401326634        True        TB              27       LAR   \n",
       "180  401326634        True        TB              27       LAR   \n",
       "181  401326634        True        TB              27       LAR   \n",
       "182  401326634        True        TB              27       LAR   \n",
       "183  401326634        True        TB              27       LAR   \n",
       "\n",
       "    Away Team Score Quarter Clock Possession      Down Ball Placement  \\\n",
       "179              27       4  0:35        LAR  2nd & 11         LAR 24   \n",
       "180              27       4  0:27        LAR  1st & 10         LAR 44   \n",
       "181              27       4  0:06        LAR  1st & 10          TB 12   \n",
       "182              27       4  0:00        LAR  2nd & 10          TB 12   \n",
       "183              30       4  0:00        NaN       NaN            NaN   \n",
       "\n",
       "                                           Description  \n",
       "179  (Shotgun) M.Stafford pass deep left to C.Kupp ...  \n",
       "180  (Shotgun) M.Stafford pass deep middle to C.Kup...  \n",
       "181  (No Huddle) M.Stafford spiked the ball to stop...  \n",
       "182                          Matt Gay 30 Yd Field Goal  \n",
       "183                                              Final  "
      ]
     },
     "execution_count": 7,
     "metadata": {},
     "output_type": "execute_result"
    }
   ],
   "source": [
    "scrape_game('401326634').tail()"
   ]
  },
  {
   "cell_type": "code",
   "execution_count": 8,
   "id": "457745cc-b1e8-4025-8747-1a792729c3f0",
   "metadata": {},
   "outputs": [],
   "source": [
    "def print_progress(progress, total):\n",
    "    progress_bar = '['\n",
    "    progress_bar += ('=' * int((progress / total)*30))\n",
    "    progress_bar += (' ' * (30 - int((progress / total)*30)))\n",
    "    progress_bar += f'] {progress}/{total}'\n",
    "    return progress_bar"
   ]
  },
  {
   "cell_type": "code",
   "execution_count": 16,
   "id": "eb811b3a-deeb-4147-a805-674ddfd4f3d9",
   "metadata": {},
   "outputs": [],
   "source": [
    "def random_request():\n",
    "    num = random.randint(0, len(teams)-1)\n",
    "    if 5 > random.randint(0, 100):\n",
    "        requests.get(f'https://www.espn.com/nfl/team/schedule/_/name/{teams[num]}/')\n",
    "    if 5 > random.randint(0, 100):\n",
    "        requests.get(f'https://www.espn.com/nfl/team/stats/_/name/{teams[num]}')"
   ]
  },
  {
   "cell_type": "code",
   "execution_count": 25,
   "id": "2dfbc962-c184-4bd6-afa7-bc5db7368b0b",
   "metadata": {
    "tags": []
   },
   "outputs": [
    {
     "name": "stdout",
     "output_type": "stream",
     "text": [
      "Error with 400749517==============  ] 313/332\n",
      "2014 [==============================] 332/332\n",
      "\n"
     ]
    }
   ],
   "source": [
    "for year in []:\n",
    "    game_ids = get_game_ids(year)\n",
    "    all_plays = []\n",
    "    for i in range(len(game_ids)):\n",
    "        total = len(game_ids)\n",
    "        try:\n",
    "            all_plays.append(scrape_game(game_ids[i]))\n",
    "        except AttributeError:\n",
    "            print(f'Error due to rate limiting. Waiting to resume.')\n",
    "            for i in range(20):\n",
    "                time.sleep(random.randint(0, 20))\n",
    "                random_request()\n",
    "            i -= 1\n",
    "        except:\n",
    "            print(f'Error with {game_ids[i]}. Game skipped.')\n",
    "        print(f'{year} {print_progress(i+1, total)}', end='\\r')\n",
    "    all_plays = pd.concat(all_plays)\n",
    "    all_plays.to_csv(f'Final Project/Play by Play CSVs/{year}.csv', index=False)\n",
    "    print()"
   ]
  }
 ],
 "metadata": {
  "kernelspec": {
   "display_name": "Python 3 (ipykernel)",
   "language": "python",
   "name": "python3"
  },
  "language_info": {
   "codemirror_mode": {
    "name": "ipython",
    "version": 3
   },
   "file_extension": ".py",
   "mimetype": "text/x-python",
   "name": "python",
   "nbconvert_exporter": "python",
   "pygments_lexer": "ipython3",
   "version": "3.10.2"
  }
 },
 "nbformat": 4,
 "nbformat_minor": 5
}
